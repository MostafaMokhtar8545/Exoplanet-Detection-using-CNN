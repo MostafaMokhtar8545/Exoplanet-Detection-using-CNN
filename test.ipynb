{
 "cells": [
  {
   "cell_type": "code",
   "execution_count": 33,
   "id": "18ca5904",
   "metadata": {},
   "outputs": [
    {
     "data": {
      "text/plain": [
       "Index(['rowid', 'kepid', 'kepoi_name', 'kepler_name', 'koi_disposition',\n",
       "       'koi_vet_stat', 'koi_vet_date', 'koi_pdisposition', 'koi_score',\n",
       "       'koi_fpflag_nt', 'koi_fpflag_ss', 'koi_fpflag_co', 'koi_fpflag_ec',\n",
       "       'koi_disp_prov', 'koi_comment', 'koi_period', 'koi_time0bk',\n",
       "       'koi_time0', 'koi_eccen', 'koi_longp', 'koi_impact', 'koi_duration',\n",
       "       'koi_ingress', 'koi_depth', 'koi_ror', 'koi_srho', 'koi_fittype',\n",
       "       'koi_prad', 'koi_sma', 'koi_incl', 'koi_teq', 'koi_insol', 'koi_dor',\n",
       "       'koi_limbdark_mod', 'koi_ldm_coeff4', 'koi_ldm_coeff3',\n",
       "       'koi_ldm_coeff2', 'koi_ldm_coeff1', 'koi_parm_prov', 'koi_max_sngle_ev',\n",
       "       'koi_max_mult_ev', 'koi_model_snr', 'koi_count', 'koi_num_transits',\n",
       "       'koi_tce_plnt_num', 'koi_tce_delivname', 'koi_quarters',\n",
       "       'koi_bin_oedp_sig', 'koi_trans_mod', 'koi_model_dof', 'koi_model_chisq',\n",
       "       'koi_datalink_dvr', 'koi_datalink_dvs', 'koi_steff', 'koi_slogg',\n",
       "       'koi_smet', 'koi_srad', 'koi_smass', 'koi_sage', 'koi_sparprov', 'ra',\n",
       "       'dec', 'koi_kepmag', 'koi_gmag', 'koi_rmag', 'koi_imag', 'koi_zmag',\n",
       "       'koi_jmag', 'koi_hmag', 'koi_kmag', 'koi_fwm_stat_sig', 'koi_fwm_sra',\n",
       "       'koi_fwm_sdec', 'koi_fwm_srao', 'koi_fwm_sdeco', 'koi_fwm_prao',\n",
       "       'koi_fwm_pdeco', 'koi_dicco_mra', 'koi_dicco_mdec', 'koi_dicco_msky',\n",
       "       'koi_dikco_mra', 'koi_dikco_mdec', 'koi_dikco_msky'],\n",
       "      dtype='object')"
      ]
     },
     "execution_count": 33,
     "metadata": {},
     "output_type": "execute_result"
    }
   ],
   "source": [
    "import pandas as pd\n",
    "\n",
    "df = pd.read_csv('data3.csv')\n",
    "df.columns"
   ]
  },
  {
   "cell_type": "code",
   "execution_count": 29,
   "id": "57fef561",
   "metadata": {},
   "outputs": [
    {
     "name": "stdout",
     "output_type": "stream",
     "text": [
      "SearchResult containing 103 data products.\n",
      "\n",
      " #       mission      year author exptime  target_name  distance\n",
      "                                     s                   arcsec \n",
      "--- ----------------- ---- ------ ------- ------------- --------\n",
      "  0 Kepler Quarter 02 2009 Kepler      60 kplr011904151      0.0\n",
      "  1 Kepler Quarter 03 2009 Kepler      60 kplr011904151      0.0\n",
      "  2 Kepler Quarter 03 2009 Kepler      60 kplr011904151      0.0\n",
      "  3 Kepler Quarter 03 2009 Kepler      60 kplr011904151      0.0\n",
      "  4 Kepler Quarter 00 2009 Kepler    1800 kplr011904151      0.0\n",
      "  5 Kepler Quarter 01 2009 Kepler    1800 kplr011904151      0.0\n",
      "  6 Kepler Quarter 02 2009 Kepler    1800 kplr011904151      0.0\n",
      "  7 Kepler Quarter 03 2009 Kepler    1800 kplr011904151      0.0\n",
      "  8 Kepler Quarter 05 2010 Kepler      60 kplr011904151      0.0\n",
      "...               ...  ...    ...     ...           ...      ...\n",
      " 93    TESS Sector 14 2019  TASOC    1800     377780790      0.0\n",
      " 94    TESS Sector 15 2019  CDIPS    1800     377780790      0.0\n",
      " 95    TESS Sector 26 2020  TASOC    1800     377780790      0.0\n",
      " 96    TESS Sector 26 2020  TASOC    1800     377780790      0.0\n",
      " 97    TESS Sector 26 2020  CDIPS    1800     377780790      0.0\n",
      " 98    TESS Sector 41 2021  CDIPS    1800     377780790      0.0\n",
      " 99    TESS Sector 40 2021  CDIPS    1800     377780790      0.0\n",
      "100    TESS Sector 55 2022  CDIPS    1800     377780790      0.0\n",
      "101    TESS Sector 54 2022  CDIPS    1800     377780790      0.0\n",
      "102    TESS Sector 53 2022  CDIPS    1800     377780790      0.0\n",
      "Length = 103 rows\n"
     ]
    },
    {
     "data": {
      "text/plain": [
       "<Axes: xlabel='Time - 2454833 [BKJD days]', ylabel='Flux [$\\\\mathrm{e^{-}\\\\,s^{-1}}$]'>"
      ]
     },
     "execution_count": 29,
     "metadata": {},
     "output_type": "execute_result"
    }
   ],
   "source": [
    "import lightkurve as lk\n",
    "\n",
    "# Search for Kepler data\n",
    "search_result = lk.search_lightcurve(\"Kepler-10\")\n",
    "print(search_result)\n",
    "\n",
    "# Download a light curve\n",
    "lc = search_result[0].download()\n",
    "lc.plot()"
   ]
  },
  {
   "cell_type": "code",
   "execution_count": 28,
   "id": "d9dbbc79",
   "metadata": {},
   "outputs": [
    {
     "ename": "TypeError",
     "evalue": "unsupported format string passed to Time.__format__",
     "output_type": "error",
     "traceback": [
      "\u001b[0;31m---------------------------------------------------------------------------\u001b[0m",
      "\u001b[0;31mTypeError\u001b[0m                                 Traceback (most recent call last)",
      "Cell \u001b[0;32mIn[28], line 2\u001b[0m\n\u001b[1;32m      1\u001b[0m \u001b[38;5;66;03m# Basic properties\u001b[39;00m\n\u001b[0;32m----> 2\u001b[0m \u001b[38;5;28mprint\u001b[39m(\u001b[38;5;124mf\u001b[39m\u001b[38;5;124m\"\u001b[39m\u001b[38;5;124mTime range: \u001b[39m\u001b[38;5;132;01m{\u001b[39;00mlc\u001b[38;5;241m.\u001b[39mtime\u001b[38;5;241m.\u001b[39mmin()\u001b[38;5;132;01m:\u001b[39;00m\u001b[38;5;124m.2f\u001b[39m\u001b[38;5;132;01m}\u001b[39;00m\u001b[38;5;124m to \u001b[39m\u001b[38;5;132;01m{\u001b[39;00mlc\u001b[38;5;241m.\u001b[39mtime\u001b[38;5;241m.\u001b[39mmax()\u001b[38;5;132;01m:\u001b[39;00m\u001b[38;5;124m.2f\u001b[39m\u001b[38;5;132;01m}\u001b[39;00m\u001b[38;5;124m\"\u001b[39m)\n\u001b[1;32m      3\u001b[0m \u001b[38;5;28mprint\u001b[39m(\u001b[38;5;124mf\u001b[39m\u001b[38;5;124m\"\u001b[39m\u001b[38;5;124mDuration: \u001b[39m\u001b[38;5;132;01m{\u001b[39;00mlc\u001b[38;5;241m.\u001b[39mtime\u001b[38;5;241m.\u001b[39mmax()\u001b[38;5;250m \u001b[39m\u001b[38;5;241m-\u001b[39m\u001b[38;5;250m \u001b[39mlc\u001b[38;5;241m.\u001b[39mtime\u001b[38;5;241m.\u001b[39mmin()\u001b[38;5;132;01m:\u001b[39;00m\u001b[38;5;124m.2f\u001b[39m\u001b[38;5;132;01m}\u001b[39;00m\u001b[38;5;124m days\u001b[39m\u001b[38;5;124m\"\u001b[39m)\n\u001b[1;32m      4\u001b[0m \u001b[38;5;28mprint\u001b[39m(\u001b[38;5;124mf\u001b[39m\u001b[38;5;124m\"\u001b[39m\u001b[38;5;124mNumber of points: \u001b[39m\u001b[38;5;132;01m{\u001b[39;00m\u001b[38;5;28mlen\u001b[39m(lc)\u001b[38;5;132;01m}\u001b[39;00m\u001b[38;5;124m\"\u001b[39m)\n",
      "\u001b[0;31mTypeError\u001b[0m: unsupported format string passed to Time.__format__"
     ]
    }
   ],
   "source": [
    "# Basic properties\n",
    "print(f\"Time range: {lc.time.min():.2f} to {lc.time.max():.2f}\")\n",
    "print(f\"Duration: {lc.time.max() - lc.time.min():.2f} days\")\n",
    "print(f\"Number of points: {len(lc)}\")\n",
    "print(f\"Flux unit: {lc.flux.unit}\")\n",
    "\n",
    "# Access the actual data\n",
    "time = lc.time.value  # BJD - 2454833\n",
    "flux = lc.flux.value  # Relative flux\n",
    "flux_err = lc.flux_err.value  # Flux error\n",
    "\n",
    "# Available columns\n",
    "print(\"Available columns:\", lc.columns)"
   ]
  }
 ],
 "metadata": {
  "kernelspec": {
   "display_name": "Python 3",
   "language": "python",
   "name": "python3"
  },
  "language_info": {
   "codemirror_mode": {
    "name": "ipython",
    "version": 3
   },
   "file_extension": ".py",
   "mimetype": "text/x-python",
   "name": "python",
   "nbconvert_exporter": "python",
   "pygments_lexer": "ipython3",
   "version": "3.10.12"
  }
 },
 "nbformat": 4,
 "nbformat_minor": 5
}
